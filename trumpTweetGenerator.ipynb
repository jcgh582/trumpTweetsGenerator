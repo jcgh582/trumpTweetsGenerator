{
 "cells": [
  {
   "cell_type": "markdown",
   "metadata": {},
   "source": [
    "### Pip install"
   ]
  },
  {
   "cell_type": "code",
   "execution_count": 1,
   "metadata": {},
   "outputs": [],
   "source": [
    "%%capture\n",
    "!pip install markovify"
   ]
  },
  {
   "cell_type": "code",
   "execution_count": 2,
   "metadata": {},
   "outputs": [],
   "source": [
    "%%capture\n",
    "!pip install tweepy"
   ]
  },
  {
   "cell_type": "markdown",
   "metadata": {},
   "source": [
    "### Import stuff"
   ]
  },
  {
   "cell_type": "code",
   "execution_count": 3,
   "metadata": {},
   "outputs": [],
   "source": [
    "import csv\n",
    "import markovify\n",
    "import os\n",
    "import re\n",
    "import tweepy"
   ]
  },
  {
   "cell_type": "markdown",
   "metadata": {},
   "source": [
    "### Config"
   ]
  },
  {
   "cell_type": "code",
   "execution_count": 4,
   "metadata": {},
   "outputs": [],
   "source": [
    "consumer_key = os.environ['CONSUMER_KEY']\n",
    "consumer_secret = os.environ['CONSUMER_SECRET']\n",
    "access_key = os.environ['ACCESS_KEY']\n",
    "access_secret = os.environ['ACCESS_SECRET']"
   ]
  },
  {
   "cell_type": "markdown",
   "metadata": {},
   "source": [
    "### Lib code"
   ]
  },
  {
   "cell_type": "code",
   "execution_count": 5,
   "metadata": {},
   "outputs": [],
   "source": [
    "def tweepyClientFactory():\n",
    "    auth = tweepy.OAuthHandler(consumer_key, consumer_secret)\n",
    "    auth.set_access_token(access_key, access_secret)\n",
    "    \n",
    "    return tweepy.API(auth)"
   ]
  },
  {
   "cell_type": "code",
   "execution_count": 6,
   "metadata": {},
   "outputs": [],
   "source": [
    "def getAllTweets(screen_name):\n",
    "    client = tweepyClientFactory()\n",
    "    \n",
    "    return [tweet.full_text for tweet in tweepy.Cursor(client.user_timeline, tweet_mode='extended', screen_name='realDonaldTrump').items(1000)]"
   ]
  },
  {
   "cell_type": "code",
   "execution_count": 7,
   "metadata": {},
   "outputs": [],
   "source": [
    "def _cleanTweet(tweet):\n",
    "    tweet = re.sub(r\"http\\S+\", \"\", tweet)       #links\n",
    "    tweet = re.sub(\"#\\S+\", \"\", tweet)           #hashtags\n",
    "    tweet = re.sub(\"@[A-Za-z0-9]+\", \"\", tweet) \n",
    "    tweet = re.sub(\"RT.+\", \"\", tweet)           #Retweets\n",
    "    tweet = re.sub(\"Video\\:\", \"\", tweet)        #Videos\n",
    "    tweet = re.sub(\"\\n\", \"\", tweet)             #new lines\n",
    "    tweet = re.sub(\"^\\.\\s.\", \"\", tweet)         #leading whitespace\n",
    "    tweet = re.sub(\"\\s+\", \" \", tweet)           #extra whitespace\n",
    "    tweet = re.sub(\"&amp;\", \"and\", tweet)       #encoded ampersands\n",
    "        \n",
    "    return tweet.strip()"
   ]
  },
  {
   "cell_type": "code",
   "execution_count": 8,
   "metadata": {},
   "outputs": [],
   "source": [
    "def cleanTweets(tweets):\n",
    "    cleanedTweets = [_cleanTweet(tweet) for tweet in tweets]\n",
    "    \n",
    "    while '' in cleanedTweets:\n",
    "        cleanedTweets.remove('')\n",
    "    \n",
    "    return cleanedTweets"
   ]
  },
  {
   "cell_type": "code",
   "execution_count": 9,
   "metadata": {},
   "outputs": [],
   "source": [
    "def writeTweetsToCsv(tweets):\n",
    "    with open('tweets.csv', 'w') as f:\n",
    "        writer = csv.writer(f)\n",
    "        for tweet in tweets:\n",
    "            writer.writerow([tweet])"
   ]
  },
  {
   "cell_type": "code",
   "execution_count": 10,
   "metadata": {},
   "outputs": [],
   "source": [
    "def getTweetsFromCsv():\n",
    "    with open(\"tweets.csv\") as f:\n",
    "        return f.read()"
   ]
  },
  {
   "cell_type": "markdown",
   "metadata": {},
   "source": [
    "### Impl"
   ]
  },
  {
   "cell_type": "code",
   "execution_count": 11,
   "metadata": {
    "scrolled": true
   },
   "outputs": [],
   "source": [
    "tweets = getAllTweets(\"realDonaldTrump\")"
   ]
  },
  {
   "cell_type": "code",
   "execution_count": 12,
   "metadata": {},
   "outputs": [],
   "source": [
    "cleanedTweets = cleanTweets(tweets)"
   ]
  },
  {
   "cell_type": "code",
   "execution_count": 13,
   "metadata": {
    "scrolled": true
   },
   "outputs": [],
   "source": [
    "writeTweetsToCsv(cleanedTweets)"
   ]
  },
  {
   "cell_type": "code",
   "execution_count": 14,
   "metadata": {},
   "outputs": [],
   "source": [
    "tweetsFromCsv = getTweetsFromCsv()"
   ]
  },
  {
   "cell_type": "code",
   "execution_count": 15,
   "metadata": {
    "scrolled": true
   },
   "outputs": [],
   "source": [
    "model = markovify.NewlineText(tweetsFromCsv)"
   ]
  },
  {
   "cell_type": "markdown",
   "metadata": {},
   "source": [
    "### Test"
   ]
  },
  {
   "cell_type": "code",
   "execution_count": 16,
   "metadata": {
    "scrolled": true
   },
   "outputs": [
    {
     "data": {
      "text/plain": [
       "'I am on my way to Singapore and talks with North Korea on Denuclearization. Won’t be talking about the phony Russian Witch Hunt.'"
      ]
     },
     "execution_count": 16,
     "metadata": {},
     "output_type": "execute_result"
    }
   ],
   "source": [
    "model.make_sentence()"
   ]
  }
 ],
 "metadata": {
  "kernelspec": {
   "display_name": "Python 3",
   "language": "python",
   "name": "python3"
  },
  "language_info": {
   "codemirror_mode": {
    "name": "ipython",
    "version": 3
   },
   "file_extension": ".py",
   "mimetype": "text/x-python",
   "name": "python",
   "nbconvert_exporter": "python",
   "pygments_lexer": "ipython3",
   "version": "3.6.5"
  }
 },
 "nbformat": 4,
 "nbformat_minor": 2
}
